{
  "nbformat": 4,
  "nbformat_minor": 0,
  "metadata": {
    "colab": {
      "name": "Adding machine.ipynb",
      "version": "0.3.2",
      "provenance": [],
      "collapsed_sections": []
    },
    "kernelspec": {
      "name": "python3",
      "display_name": "Python 3"
    }
  },
  "cells": [
    {
      "metadata": {
        "id": "YNqgq-xMw3Ov",
        "colab_type": "code",
        "colab": {
          "base_uri": "https://localhost:8080/",
          "height": 34
        },
        "outputId": "103b0c99-8372-45f1-8d17-a4f5ccc7e626"
      },
      "cell_type": "code",
      "source": [
        "import tensorflow as tf\n",
        "import random as random\n",
        "import numpy as np\n",
        "\n",
        "def get_abc():\n",
        "  c = random.randint(1, 10000)\n",
        "  b = random.randint(0, c)\n",
        "  a = c - b;\n",
        "  return [a, b, c]\n",
        "\n",
        "print(get_abc())"
      ],
      "execution_count": 1,
      "outputs": [
        {
          "output_type": "stream",
          "text": [
            "[3576, 5157, 8733]\n"
          ],
          "name": "stdout"
        }
      ]
    },
    {
      "metadata": {
        "id": "tuzNjhRXxOBe",
        "colab_type": "text"
      },
      "cell_type": "markdown",
      "source": [
        "# a + b  = c\n",
        "Simple right? `get_abc` is a function that will generate those 3 values."
      ]
    },
    {
      "metadata": {
        "id": "5gT2nHO5xOhy",
        "colab_type": "code",
        "colab": {}
      },
      "cell_type": "code",
      "source": [
        "x_train = []\n",
        "y_train = []\n",
        "\n",
        "for x in range(50000):\n",
        "  abc = get_abc()\n",
        "  x_train.append([abc[0], abc[1]])\n",
        "  y_train.append([abc[2]])\n",
        "\n",
        "x_test = []\n",
        "y_test = []\n",
        "\n",
        "for x in range(1000):\n",
        "  abc = get_abc()\n",
        "  x_test.append([abc[0], abc[1]])\n",
        "  y_test.append(abc[2])\n",
        "\n",
        "x_train = np.array(x_train, dtype=np.int32)\n",
        "y_train = np.array(y_train, dtype=np.int32)\n",
        "x_test = np.array(x_test, dtype=np.int32)\n",
        "y_test = np.array(y_test, dtype=np.int32)"
      ],
      "execution_count": 0,
      "outputs": []
    },
    {
      "metadata": {
        "id": "1Lvs0SDH1YU7",
        "colab_type": "text"
      },
      "cell_type": "markdown",
      "source": [
        "We got the training and test data.\n",
        "\n",
        "Now let's build our model and train it!"
      ]
    },
    {
      "metadata": {
        "id": "GhUdL425xVjh",
        "colab_type": "code",
        "colab": {
          "base_uri": "https://localhost:8080/",
          "height": 289
        },
        "outputId": "3bfbf21a-9ec5-4c9d-d85f-643b78455807"
      },
      "cell_type": "code",
      "source": [
        "model = tf.keras.models.Sequential([\n",
        "  tf.keras.layers.Dense(2, activation=tf.nn.relu, input_shape=(2, )),\n",
        "  tf.keras.layers.Dense(10, activation=tf.nn.relu),\n",
        "  tf.keras.layers.Dense(10, activation=tf.nn.relu),\n",
        "  tf.keras.layers.Dense(1, activation=tf.nn.relu),\n",
        "])\n",
        "\n",
        "model.compile(loss='mean_squared_error',\n",
        "              optimizer='adam',\n",
        "              metrics=['mean_absolute_error'])\n",
        "\n",
        "model.fit(x_train, y_train, epochs=7)\n",
        "\n",
        "model.evaluate(x_test, y_test)"
      ],
      "execution_count": 19,
      "outputs": [
        {
          "output_type": "stream",
          "text": [
            "Epoch 1/7\n",
            "50000/50000 [==============================] - 3s 51us/sample - loss: 1773420.3137 - mean_absolute_error: 544.8021\n",
            "Epoch 2/7\n",
            "50000/50000 [==============================] - 2s 46us/sample - loss: 2872.3981 - mean_absolute_error: 30.1940\n",
            "Epoch 3/7\n",
            "50000/50000 [==============================] - 2s 46us/sample - loss: 93.3724 - mean_absolute_error: 3.5872\n",
            "Epoch 4/7\n",
            "50000/50000 [==============================] - 2s 46us/sample - loss: 9.8004 - mean_absolute_error: 1.1400\n",
            "Epoch 5/7\n",
            "50000/50000 [==============================] - 2s 45us/sample - loss: 1.5278 - mean_absolute_error: 0.6223\n",
            "Epoch 6/7\n",
            "50000/50000 [==============================] - 2s 45us/sample - loss: 2.7248 - mean_absolute_error: 0.6769\n",
            "Epoch 7/7\n",
            "50000/50000 [==============================] - 2s 45us/sample - loss: 6.4129 - mean_absolute_error: 1.0455\n",
            "1000/1000 [==============================] - 0s 203us/sample - loss: 0.2184 - mean_absolute_error: 0.4191\n"
          ],
          "name": "stdout"
        },
        {
          "output_type": "execute_result",
          "data": {
            "text/plain": [
              "[0.21837662184238435, 0.4191097]"
            ]
          },
          "metadata": {
            "tags": []
          },
          "execution_count": 19
        }
      ]
    },
    {
      "metadata": {
        "id": "E22w5Bfm1f1n",
        "colab_type": "text"
      },
      "cell_type": "markdown",
      "source": [
        "At the end we can use our model to predict the value"
      ]
    },
    {
      "metadata": {
        "id": "xrOWdxmlxoKM",
        "colab_type": "code",
        "colab": {
          "base_uri": "https://localhost:8080/",
          "height": 68
        },
        "outputId": "93557d6d-fc4f-4496-c49b-60577fba6a42"
      },
      "cell_type": "code",
      "source": [
        "a = input(\"Give a: \")\n",
        "b = input(\"Give b: \")\n",
        "print(model.predict(np.array([[a, b]])))"
      ],
      "execution_count": 20,
      "outputs": [
        {
          "output_type": "stream",
          "text": [
            "Give a: 100\n",
            "Give b: 200\n",
            "[[300.0943]]\n"
          ],
          "name": "stdout"
        }
      ]
    }
  ]
}